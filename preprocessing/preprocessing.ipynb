{
 "cells": [
  {
   "cell_type": "markdown",
   "source": [
    "# Pré-traitement des données environnementales (*The World Bank*)\n",
    "\n",
    "[Source](https://data.worldbank.org/topic/6)\n",
    "\n",
    "- `API_6_DS2_en_csv` : les données\n",
    "- `Metadata_Country_API_6_DS2_en_csv` métadonnées par pays\n",
    "- `Metadata_Indicator_API_6_DS2_en_csv` liste des indicateurs disponibles\n",
    "\n",
    "\n",
    "## Indicateurs retenus\n",
    "\n",
    "- `ER.H2O.INTR.PC` : `Renewable internal freshwater resources per capita (cubic meters)`\n",
    "- `ER.H2O.INTR.K3` : `Renewable internal freshwater resources, total (billion cubic meters)`\n",
    "- `AG.LND.FRST.ZS` : `Surface forestière (% du territoire)`\n",
    "- `EG.ELC.FOSL.ZS` : `Production d'électricité à partir des sources en pétrole, gaz et charbon (% du total)`\n",
    "- `EG.ELC.RNEW.ZS` : `Production d’électricité renouvelable (% de la production totale d’électricité)`\n",
    "- `EN.ATM.CO2E.KT` : `Émissions de CO2 (kt)`"
   ],
   "metadata": {
    "collapsed": false,
    "pycharm": {
     "name": "#%% md\n"
    }
   }
  },
  {
   "cell_type": "code",
   "execution_count": 1,
   "metadata": {
    "collapsed": true
   },
   "outputs": [
    {
     "data": {
      "text/plain": "  Country Name Country Code  \\\n0        Aruba          ABW   \n1        Aruba          ABW   \n2        Aruba          ABW   \n3        Aruba          ABW   \n4        Aruba          ABW   \n\n                                      Indicator Name     Indicator Code  1960  \\\n0  Mortality rate attributed to unsafe water, uns...     SH.STA.WASH.P5   NaN   \n1  People using safely managed sanitation service...     SH.STA.SMSS.ZS   NaN   \n2  People using safely managed sanitation service...  SH.STA.SMSS.UR.ZS   NaN   \n3  People using safely managed sanitation service...  SH.STA.SMSS.RU.ZS   NaN   \n4  Mortality rate attributed to unintentional poi...  SH.STA.POIS.P5.MA   NaN   \n\n   1961  1962  1963  1964  1965  ...  2012  2013  2014  2015  2016  2017  \\\n0   NaN   NaN   NaN   NaN   NaN  ...   NaN   NaN   NaN   NaN   NaN   NaN   \n1   NaN   NaN   NaN   NaN   NaN  ...   NaN   NaN   NaN   NaN   NaN   NaN   \n2   NaN   NaN   NaN   NaN   NaN  ...   NaN   NaN   NaN   NaN   NaN   NaN   \n3   NaN   NaN   NaN   NaN   NaN  ...   NaN   NaN   NaN   NaN   NaN   NaN   \n4   NaN   NaN   NaN   NaN   NaN  ...   NaN   NaN   NaN   NaN   NaN   NaN   \n\n   2018  2019  2020  Unnamed: 65  \n0   NaN   NaN   NaN          NaN  \n1   NaN   NaN   NaN          NaN  \n2   NaN   NaN   NaN          NaN  \n3   NaN   NaN   NaN          NaN  \n4   NaN   NaN   NaN          NaN  \n\n[5 rows x 66 columns]",
      "text/html": "<div>\n<style scoped>\n    .dataframe tbody tr th:only-of-type {\n        vertical-align: middle;\n    }\n\n    .dataframe tbody tr th {\n        vertical-align: top;\n    }\n\n    .dataframe thead th {\n        text-align: right;\n    }\n</style>\n<table border=\"1\" class=\"dataframe\">\n  <thead>\n    <tr style=\"text-align: right;\">\n      <th></th>\n      <th>Country Name</th>\n      <th>Country Code</th>\n      <th>Indicator Name</th>\n      <th>Indicator Code</th>\n      <th>1960</th>\n      <th>1961</th>\n      <th>1962</th>\n      <th>1963</th>\n      <th>1964</th>\n      <th>1965</th>\n      <th>...</th>\n      <th>2012</th>\n      <th>2013</th>\n      <th>2014</th>\n      <th>2015</th>\n      <th>2016</th>\n      <th>2017</th>\n      <th>2018</th>\n      <th>2019</th>\n      <th>2020</th>\n      <th>Unnamed: 65</th>\n    </tr>\n  </thead>\n  <tbody>\n    <tr>\n      <th>0</th>\n      <td>Aruba</td>\n      <td>ABW</td>\n      <td>Mortality rate attributed to unsafe water, uns...</td>\n      <td>SH.STA.WASH.P5</td>\n      <td>NaN</td>\n      <td>NaN</td>\n      <td>NaN</td>\n      <td>NaN</td>\n      <td>NaN</td>\n      <td>NaN</td>\n      <td>...</td>\n      <td>NaN</td>\n      <td>NaN</td>\n      <td>NaN</td>\n      <td>NaN</td>\n      <td>NaN</td>\n      <td>NaN</td>\n      <td>NaN</td>\n      <td>NaN</td>\n      <td>NaN</td>\n      <td>NaN</td>\n    </tr>\n    <tr>\n      <th>1</th>\n      <td>Aruba</td>\n      <td>ABW</td>\n      <td>People using safely managed sanitation service...</td>\n      <td>SH.STA.SMSS.ZS</td>\n      <td>NaN</td>\n      <td>NaN</td>\n      <td>NaN</td>\n      <td>NaN</td>\n      <td>NaN</td>\n      <td>NaN</td>\n      <td>...</td>\n      <td>NaN</td>\n      <td>NaN</td>\n      <td>NaN</td>\n      <td>NaN</td>\n      <td>NaN</td>\n      <td>NaN</td>\n      <td>NaN</td>\n      <td>NaN</td>\n      <td>NaN</td>\n      <td>NaN</td>\n    </tr>\n    <tr>\n      <th>2</th>\n      <td>Aruba</td>\n      <td>ABW</td>\n      <td>People using safely managed sanitation service...</td>\n      <td>SH.STA.SMSS.UR.ZS</td>\n      <td>NaN</td>\n      <td>NaN</td>\n      <td>NaN</td>\n      <td>NaN</td>\n      <td>NaN</td>\n      <td>NaN</td>\n      <td>...</td>\n      <td>NaN</td>\n      <td>NaN</td>\n      <td>NaN</td>\n      <td>NaN</td>\n      <td>NaN</td>\n      <td>NaN</td>\n      <td>NaN</td>\n      <td>NaN</td>\n      <td>NaN</td>\n      <td>NaN</td>\n    </tr>\n    <tr>\n      <th>3</th>\n      <td>Aruba</td>\n      <td>ABW</td>\n      <td>People using safely managed sanitation service...</td>\n      <td>SH.STA.SMSS.RU.ZS</td>\n      <td>NaN</td>\n      <td>NaN</td>\n      <td>NaN</td>\n      <td>NaN</td>\n      <td>NaN</td>\n      <td>NaN</td>\n      <td>...</td>\n      <td>NaN</td>\n      <td>NaN</td>\n      <td>NaN</td>\n      <td>NaN</td>\n      <td>NaN</td>\n      <td>NaN</td>\n      <td>NaN</td>\n      <td>NaN</td>\n      <td>NaN</td>\n      <td>NaN</td>\n    </tr>\n    <tr>\n      <th>4</th>\n      <td>Aruba</td>\n      <td>ABW</td>\n      <td>Mortality rate attributed to unintentional poi...</td>\n      <td>SH.STA.POIS.P5.MA</td>\n      <td>NaN</td>\n      <td>NaN</td>\n      <td>NaN</td>\n      <td>NaN</td>\n      <td>NaN</td>\n      <td>NaN</td>\n      <td>...</td>\n      <td>NaN</td>\n      <td>NaN</td>\n      <td>NaN</td>\n      <td>NaN</td>\n      <td>NaN</td>\n      <td>NaN</td>\n      <td>NaN</td>\n      <td>NaN</td>\n      <td>NaN</td>\n      <td>NaN</td>\n    </tr>\n  </tbody>\n</table>\n<p>5 rows × 66 columns</p>\n</div>"
     },
     "execution_count": 1,
     "metadata": {},
     "output_type": "execute_result"
    }
   ],
   "source": [
    "import pandas as pd\n",
    "\n",
    "country_metadata = pd.read_csv('../data/Metadata_Country_API_6_DS2_fr_csv_v2_1764366.csv')\n",
    "indicator_metadata = pd.read_csv('../data/Metadata_Indicator_API_6_DS2_fr_csv_v2_1764366.csv')\n",
    "main_csv = pd.read_csv('../data/API_6_DS2_fr_csv_v2_1764366.csv', skiprows=4)\n",
    "\n",
    "indics = ['ER.H2O.INTR.PC', 'ER.H2O.INTR.K3', 'AG.LND.FRST.ZS', 'EG.ELC.FOSL.ZS', 'EG.ELC.RNEW.ZS', 'EN.ATM.CO2E.KT']\n",
    "\n",
    "main_csv.head()"
   ]
  },
  {
   "cell_type": "code",
   "execution_count": 2,
   "outputs": [],
   "source": [
    "import json\n",
    "\n",
    "pays = ['France', 'Monde']\n",
    "\n",
    "def get_indicator(ind_name):\n",
    "    df = main_csv[main_csv['Indicator Code'] == ind_name].copy()\n",
    "    df.drop(columns=['Indicator Name', 'Indicator Code', 'Unnamed: 65', 'Country Code'], inplace=True)\n",
    "    df.dropna(axis='columns', how='all', inplace=True)\n",
    "    return df[df['Country Name'].isin(pays)]\n",
    "\n",
    "def get_output(ind_name):\n",
    "    output = {}\n",
    "    ind = get_indicator(ind_name)\n",
    "    for p in pays:\n",
    "        pays_data = ind[ind['Country Name'] == p].iloc[:, 1:]\n",
    "        pays_array = [{\"year\": year, \"value\": pays_data[year].values[0]} for year in pays_data.columns]\n",
    "        output[p] = pays_array\n",
    "    return output\n",
    "\n",
    "\n",
    "for ind in indics:\n",
    "    f = open('../data/' + ind + '.json', 'w')\n",
    "    json.dump(get_output(ind), f)\n"
   ],
   "metadata": {
    "collapsed": false,
    "pycharm": {
     "name": "#%%\n"
    }
   }
  },
  {
   "cell_type": "code",
   "execution_count": 2,
   "outputs": [],
   "source": [],
   "metadata": {
    "collapsed": false,
    "pycharm": {
     "name": "#%%\n"
    }
   }
  }
 ],
 "metadata": {
  "kernelspec": {
   "display_name": "Python 3",
   "language": "python",
   "name": "python3"
  },
  "language_info": {
   "codemirror_mode": {
    "name": "ipython",
    "version": 2
   },
   "file_extension": ".py",
   "mimetype": "text/x-python",
   "name": "python",
   "nbconvert_exporter": "python",
   "pygments_lexer": "ipython2",
   "version": "2.7.6"
  }
 },
 "nbformat": 4,
 "nbformat_minor": 0
}